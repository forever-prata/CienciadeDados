{
 "cells": [
  {
   "cell_type": "code",
   "execution_count": 7,
   "id": "ea453675",
   "metadata": {},
   "outputs": [],
   "source": [
    "#1 - Leia o CSV 'Filmes'em uma variável chamada df. Digite print(df) na próxima linha veja o que aparece."
   ]
  },
  {
   "cell_type": "code",
   "execution_count": 8,
   "id": "965ffdb9",
   "metadata": {},
   "outputs": [],
   "source": [
    "#2 - Quando carregamos um novo DataFrame de um CSV, queremos saber como ele se parece.\n",
    "#Se for um DataFrame pequeno, você pode exibi-lo digitando print(df).\n",
    "#Se for um DataFrame maior, é útil poder inspecionar alguns itens sem precisar examinar o DataFrame inteiro.\n",
    "# Mostre  as 8 primeiras linhas do DataFrame df.\n",
    "# Mostre algumas estatísticas para cada coluna"
   ]
  },
  {
   "cell_type": "code",
   "execution_count": 9,
   "id": "f5acf7c7",
   "metadata": {},
   "outputs": [],
   "source": [
    "#Selecionar colunas\n",
    "#3 - Crie uma variável nomes_filmes que contenha somente os nomes dos filmes\n",
    "#Depois de criar a variável de o comando print(nomes_filmes)"
   ]
  },
  {
   "cell_type": "code",
   "execution_count": 10,
   "id": "07e9d785",
   "metadata": {},
   "outputs": [],
   "source": [
    "#Agora, você quer comparar os filmes através de suas notas \n",
    "#4 - Crie uma variável filmes_e_notas que contenha somente dados das colunas nome e nota_imdb\n",
    "#Depois de criar a variável de o comando print(filmes_e_notas)"
   ]
  },
  {
   "cell_type": "code",
   "execution_count": 11,
   "id": "618e6808",
   "metadata": {},
   "outputs": [],
   "source": [
    "#Selecionando linhas\n",
    "#5 - Escreva um comando que mostre os 10 primeiros registros"
   ]
  },
  {
   "cell_type": "code",
   "execution_count": 12,
   "id": "d9e1451c",
   "metadata": {},
   "outputs": [],
   "source": [
    "#6 - Escreva um comando que mostre os 4 últimos registros do DataFrame"
   ]
  },
  {
   "cell_type": "code",
   "execution_count": 18,
   "id": "4d5a6477",
   "metadata": {},
   "outputs": [],
   "source": [
    "df2 = pd.DataFrame([\n",
    "  [1, 'Parafuso de 3 polegadas', 0.5, 0.75],\n",
    "  [2, 'Prego de duas polegadas', 0.10, 0.25],\n",
    "  [3, 'Martelo', 3.00, 5.50],\n",
    "  [4, 'Chave de fenda', 2.50, 3.00]\n",
    "],\n",
    "  columns=['ID do produto', 'Produto', 'Custo de fabricação', 'preço']\n",
    ")\n",
    "df2"
   ]
  },
  {
   "cell_type": "code",
   "execution_count": 19,
   "id": "6c6f7b1c",
   "metadata": {},
   "outputs": [],
   "source": [
    "#7 - Adiciona ao df2 a coluna margem que é a diferença entre o preço e custo de fabricação"
   ]
  },
  {
   "cell_type": "code",
   "execution_count": 20,
   "id": "c63c33dc",
   "metadata": {},
   "outputs": [],
   "source": [
    "#8 - Altere o nome da coluna ID do produto para ID e Produto para Descrição"
   ]
  },
  {
   "cell_type": "code",
   "execution_count": 13,
   "id": "40ade966",
   "metadata": {},
   "outputs": [],
   "source": [
    "#Leia o CSV 'olimpíadas'em uma variável chamada df3.\n",
    "#Examine o DataFrame para entender o conjunto de dados"
   ]
  },
  {
   "cell_type": "code",
   "execution_count": 14,
   "id": "812561f5",
   "metadata": {},
   "outputs": [],
   "source": [
    "#9 - Escreva um comando que mostre o nome dos atletas brasileiros com mais de 30 anos e do sexo masculino que participaram\n",
    "#das olimpíadas a partir de 2012"
   ]
  },
  {
   "cell_type": "code",
   "execution_count": null,
   "id": "c71ebcbd",
   "metadata": {},
   "outputs": [],
   "source": [
    "#10 - Crie uma variável media_idade que contenha a média de idade dos atletas brasileiros\n",
    "#Depois de criar a variável de o comando print(media_idade)"
   ]
  },
  {
   "cell_type": "code",
   "execution_count": null,
   "id": "21814506",
   "metadata": {},
   "outputs": [],
   "source": [
    "#11 - Escreva um comando que mostre o nome, idade e ano de participação do atleta brasileiro mais velho\n",
    "#que participou dos jogos olimpícos"
   ]
  },
  {
   "cell_type": "code",
   "execution_count": 17,
   "id": "b9e56062",
   "metadata": {},
   "outputs": [],
   "source": [
    "#12 - Escreva um comando que mostre o nome, o ano e idade do atleta brasileiro mais jovem a ganhar uma medalha de ouro."
   ]
  },
  {
   "cell_type": "code",
   "execution_count": 22,
   "id": "cf68ec52",
   "metadata": {},
   "outputs": [],
   "source": [
    "#Voltando ao primeiro DataFrame sobre filmes\n",
    "#13 - Escreva um comando que mostre quais o generos de filmes estão disponíveis no DataFrame.\n",
    "#Obs: Não é só mostrar a coluna gênero"
   ]
  },
  {
   "cell_type": "code",
   "execution_count": 1,
   "id": "7d473638",
   "metadata": {},
   "outputs": [],
   "source": [
    "#14 - Escreva um comando que apresente a média das notas dos filmes por ano."
   ]
  }
 ],
 "metadata": {
  "kernelspec": {
   "display_name": "Python [conda env:base] *",
   "language": "python",
   "name": "conda-base-py"
  },
  "language_info": {
   "codemirror_mode": {
    "name": "ipython",
    "version": 3
   },
   "file_extension": ".py",
   "mimetype": "text/x-python",
   "name": "python",
   "nbconvert_exporter": "python",
   "pygments_lexer": "ipython3",
   "version": "3.11.5"
  }
 },
 "nbformat": 4,
 "nbformat_minor": 5
}
